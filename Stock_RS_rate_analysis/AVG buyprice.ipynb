{
 "cells": [
  {
   "cell_type": "code",
   "execution_count": null,
   "metadata": {},
   "outputs": [],
   "source": [
    "import pandas as pd\n",
    "df1 = pd.DataFrame({\n",
    "    'key1': ['A', 'B', 'C', 'D', 'E'],\n",
    "    'key2': ['K0', 'K1', 'K2', 'K3', 'K4'],\n",
    "    'value1': [1, 2, 3, 4, 5]\n",
    "})\n",
    "\n",
    "df2 = pd.DataFrame({\n",
    "    'key1': ['A', 'B', 'C', 'D'],\n",
    "    'key3': ['K0', 'K2', 'K2', 'K4'],\n",
    "    'value1': [5, 6, 7, 8]\n",
    "})\n",
    "result = pd.merge(\n",
    "    df1,\n",
    "    df2,\n",
    "    on=['key1'],    # 指定合併鍵\n",
    "    how='outer',            # 外連接\n",
    "    suffixes=('_left', '_right') # 指定重複列名後綴\n",
    ")\n",
    "result2 = pd.merge(\n",
    "    df1,\n",
    "    df2,\n",
    "    on=['key1'],    # 指定合併鍵\n",
    "    how='inner',            # 外連接\n",
    "    suffixes=('_left', '_right') # 指定重複列名後綴\n",
    ")\n",
    "result3 = pd.concat([df1, df2], axis=0, join='inner', ignore_index=False)\n",
    "result4 = pd.concat([df1, df2], axis=0, join='outer', ignore_index=False)\n",
    "display(result)\n",
    "display(result2)\n",
    "display(result3)\n",
    "display(result4)\n",
    "print(result3.index)"
   ]
  },
  {
   "cell_type": "code",
   "execution_count": 1,
   "metadata": {},
   "outputs": [
    {
     "name": "stdout",
     "output_type": "stream",
     "text": [
      "['380', '2']\n",
      "['371', '1.5']\n",
      "['366.5', '1.5']\n",
      "[['380', '2'], ['371', '1.5'], ['366.5', '1.5']]\n",
      "Average buy price is 373.25\n",
      "[]\n"
     ]
    }
   ],
   "source": [
    "import numpy as np\n",
    "stop = False\n",
    "while stop != True:\n",
    "    buyprice_list = []\n",
    "    while True:\n",
    "        try:\n",
    "            buyprice = input(\"buy price & position : \").split('+')\n",
    "            stop = buyprice[0]\n",
    "            if stop == 'S':\n",
    "                break\n",
    "            if buyprice == ['0']:\n",
    "                break\n",
    "            if len(buyprice) != 2:\n",
    "                buyprice = buyprice[0].split(' ')\n",
    "                if len(buyprice) != 2:\n",
    "                    print(\"Please enter a number\")\n",
    "                    continue\n",
    "            buyprice_list.append(buyprice)\n",
    "        except ValueError:\n",
    "            print(\"Please enter a number\")\n",
    "        print(buyprice)\n",
    "    print(buyprice_list)\n",
    "    if stop == 'S':\n",
    "        break\n",
    "    avg_buyprice = 0\n",
    "    if buyprice_list == []:\n",
    "        print(\"Please enter a number\")\n",
    "        continue\n",
    "    for buyprice in buyprice_list:\n",
    "        avg_buyprice += float(buyprice[0]) * float(buyprice[1])\n",
    "    buy_shares = sum([float(buyprice[1]) for buyprice in buyprice_list])\n",
    "    avg_buyprice = avg_buyprice / buy_shares\n",
    "    print(f'Average buy price is {avg_buyprice}')"
   ]
  },
  {
   "cell_type": "code",
   "execution_count": 1,
   "metadata": {},
   "outputs": [
    {
     "name": "stdout",
     "output_type": "stream",
     "text": [
      "close : 410.0\n",
      "shares/0.1 position : 139.7560975609756\n"
     ]
    }
   ],
   "source": [
    "import numpy as np\n",
    "position = 573000\n",
    "close = input(\"close price : \")\n",
    "close = float(close)\n",
    "shares = position / close\n",
    "print(f'close : {close}')\n",
    "print(f'shares/0.1 position : {shares*0.1}')"
   ]
  },
  {
   "cell_type": "code",
   "execution_count": 1,
   "metadata": {},
   "outputs": [
    {
     "name": "stdout",
     "output_type": "stream",
     "text": [
      "close : 44.0\n",
      "shares/0.1 position : 750.0\n"
     ]
    }
   ],
   "source": [
    "import numpy as np\n",
    "position = 330000\n",
    "close = input(\"close price : \")\n",
    "close = float(close)\n",
    "shares = position / close\n",
    "print(f'close : {close}')\n",
    "print(f'shares/0.1 position : {shares*0.1}')"
   ]
  },
  {
   "cell_type": "code",
   "execution_count": 4,
   "metadata": {},
   "outputs": [
    {
     "name": "stdout",
     "output_type": "stream",
     "text": [
      "close : 38.0\n",
      "shares/0.1 position : 421.05263157894734\n"
     ]
    }
   ],
   "source": [
    "import numpy as np\n",
    "position = 160000\n",
    "close = input(\"close price : \")\n",
    "close = float(close)\n",
    "shares = position / close\n",
    "print(f'close : {close}')\n",
    "print(f'shares/0.1 position : {shares*0.1}')"
   ]
  },
  {
   "cell_type": "code",
   "execution_count": 3,
   "metadata": {},
   "outputs": [
    {
     "name": "stdout",
     "output_type": "stream",
     "text": [
      "close : 28.0\n",
      "shares/0.05 position : 1178.5714285714287\n",
      "0.05 1179\n",
      "0.1 2357\n",
      "0.15 3536\n",
      "0.2 4714\n",
      "0.25 5893\n",
      "0.3 7071\n",
      "0.35 8250\n",
      "0.4 9429\n",
      "0.45 10607\n",
      "0.5 11786\n",
      "0.55 12964\n",
      "0.6 14143\n",
      "0.65 15321\n",
      "0.7 16500\n",
      "0.75 17679\n",
      "0.8 18857\n",
      "0.85 20036\n",
      "0.9 21214\n",
      "0.95 22393\n"
     ]
    }
   ],
   "source": [
    "import numpy as np\n",
    "position = 660000\n",
    "close = input(\"close price : \")\n",
    "close = float(close)\n",
    "shares = position / close\n",
    "print(f'close : {close}')\n",
    "print(f'shares/0.05 position : {shares*0.05}')\n",
    "for i in np.arange(0.05, 1, 0.05):\n",
    "    print(round(i, 2), round(shares*i))"
   ]
  },
  {
   "cell_type": "code",
   "execution_count": null,
   "metadata": {},
   "outputs": [],
   "source": []
  }
 ],
 "metadata": {
  "kernelspec": {
   "display_name": "Python 3",
   "language": "python",
   "name": "python3"
  },
  "language_info": {
   "codemirror_mode": {
    "name": "ipython",
    "version": 3
   },
   "file_extension": ".py",
   "mimetype": "text/x-python",
   "name": "python",
   "nbconvert_exporter": "python",
   "pygments_lexer": "ipython3",
   "version": "3.10.4"
  }
 },
 "nbformat": 4,
 "nbformat_minor": 2
}
