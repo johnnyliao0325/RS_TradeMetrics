{
 "cells": [
  {
   "cell_type": "code",
   "execution_count": 5,
   "metadata": {},
   "outputs": [
    {
     "name": "stdout",
     "output_type": "stream",
     "text": [
      "     a    b    c\n",
      "0  NaN  NaN  NaN\n",
      "1  NaN  NaN  NaN\n",
      "2  NaN  NaN  NaN\n",
      "3  NaN  NaN  NaN\n",
      "4  NaN  NaN  NaN\n",
      "5  NaN  NaN  NaN\n",
      "6  NaN  NaN  NaN\n",
      "7  NaN  NaN  NaN\n",
      "8  NaN  NaN  NaN\n",
      "9  NaN  NaN  NaN\n",
      "     a    b    c\n",
      "0  NaN  NaN  NaN\n",
      "1  NaN  NaN  NaN\n",
      "2  NaN  NaN  NaN\n",
      "3    0  NaN  NaN\n",
      "4    0  NaN  NaN\n",
      "5    0  NaN  NaN\n",
      "6  NaN  NaN  NaN\n",
      "7  NaN  NaN  NaN\n",
      "8  NaN  NaN  NaN\n",
      "9  NaN  NaN  NaN\n",
      "     a    b    c  d\n",
      "0  NaN  NaN  NaN  0\n",
      "1  NaN  NaN  NaN  0\n",
      "2  NaN  NaN  NaN  0\n",
      "3    0  NaN  NaN  0\n",
      "4    0  NaN  NaN  0\n",
      "5    0  NaN  NaN  0\n",
      "6  NaN  NaN  NaN  0\n",
      "7  NaN  NaN  NaN  0\n",
      "8  NaN  NaN  NaN  0\n",
      "9  NaN  NaN  NaN  0\n"
     ]
    }
   ],
   "source": [
    "import pandas as pd\n",
    "\n",
    "a = pd.DataFrame([], columns=['a', 'b', 'c'], index=range(10))\n",
    "print(a)\n",
    "a.loc[[3,4,5], 'a'] = 0\n",
    "print(a)\n",
    "a['d'] = 0\n",
    "print(a)\n"
   ]
  }
 ],
 "metadata": {
  "kernelspec": {
   "display_name": "Python 3",
   "language": "python",
   "name": "python3"
  },
  "language_info": {
   "codemirror_mode": {
    "name": "ipython",
    "version": 3
   },
   "file_extension": ".py",
   "mimetype": "text/x-python",
   "name": "python",
   "nbconvert_exporter": "python",
   "pygments_lexer": "ipython3",
   "version": "3.10.4"
  }
 },
 "nbformat": 4,
 "nbformat_minor": 2
}
