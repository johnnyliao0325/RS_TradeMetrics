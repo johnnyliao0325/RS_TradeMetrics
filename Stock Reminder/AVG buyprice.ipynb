{
 "cells": [
  {
   "cell_type": "code",
   "execution_count": 1,
   "metadata": {},
   "outputs": [
    {
     "name": "stdout",
     "output_type": "stream",
     "text": [
      "['165', '4']\n",
      "['186', '6']\n",
      "[['165', '4'], ['186', '6']]\n",
      "Average buy price is 177.6\n",
      "[]\n"
     ]
    }
   ],
   "source": [
    "import numpy as np\n",
    "stop = False\n",
    "while stop != True:\n",
    "    buyprice_list = []\n",
    "    while True:\n",
    "        try:\n",
    "            buyprice = input(\"buy price & position : \").split('+')\n",
    "            stop = buyprice[0]\n",
    "            if stop == 'stop':\n",
    "                break\n",
    "            if buyprice == ['0']:\n",
    "                break\n",
    "            if len(buyprice) != 2:\n",
    "                buyprice = buyprice[0].split(' ')\n",
    "                if len(buyprice) != 2:\n",
    "                    print(\"Please enter a number\")\n",
    "                    continue\n",
    "            buyprice_list.append(buyprice)\n",
    "        except ValueError:\n",
    "            print(\"Please enter a number\")\n",
    "        print(buyprice)\n",
    "    print(buyprice_list)\n",
    "    if stop == 'stop':\n",
    "        break\n",
    "    avg_buyprice = 0\n",
    "    if buyprice_list == []:\n",
    "        print(\"Please enter a number\")\n",
    "        continue\n",
    "    for buyprice in buyprice_list:\n",
    "        avg_buyprice += float(buyprice[0]) * float(buyprice[1])\n",
    "    buy_shares = sum([float(buyprice[1]) for buyprice in buyprice_list])\n",
    "    avg_buyprice = avg_buyprice / buy_shares\n",
    "    print(f'Average buy price is {avg_buyprice}')"
   ]
  },
  {
   "cell_type": "code",
   "execution_count": 6,
   "metadata": {},
   "outputs": [
    {
     "name": "stdout",
     "output_type": "stream",
     "text": [
      "close : 43.3\n",
      "shares/0.1 position : 762.1247113163973\n"
     ]
    }
   ],
   "source": [
    "import numpy as np\n",
    "position = 330000\n",
    "close = input(\"close price : \")\n",
    "close = float(close)\n",
    "shares = position / close\n",
    "print(f'close : {close}')\n",
    "print(f'shares/0.1 position : {shares*0.1}')"
   ]
  },
  {
   "cell_type": "code",
   "execution_count": 5,
   "metadata": {},
   "outputs": [
    {
     "name": "stdout",
     "output_type": "stream",
     "text": [
      "0 1\n",
      "1 2\n",
      "2 3\n",
      "   a  b  c\n",
      "0  1  4  7\n",
      "1  2  5  8\n",
      "2  3  6  9\n"
     ]
    }
   ],
   "source": [
    "import pandas as pd\n",
    "import numpy as np\n",
    "d = {'a': [1, 2, 3], 'b': [4, 5, 6], 'c': [7, 8, 9]}\n",
    "df = pd.DataFrame(data=d)\n",
    "for a,b in enumerate(zip(df['a'], df['b'])):\n",
    "    print(a, b[0])\n",
    "print(df)"
   ]
  }
 ],
 "metadata": {
  "kernelspec": {
   "display_name": "Python 3",
   "language": "python",
   "name": "python3"
  },
  "language_info": {
   "codemirror_mode": {
    "name": "ipython",
    "version": 3
   },
   "file_extension": ".py",
   "mimetype": "text/x-python",
   "name": "python",
   "nbconvert_exporter": "python",
   "pygments_lexer": "ipython3",
   "version": "3.10.4"
  }
 },
 "nbformat": 4,
 "nbformat_minor": 2
}
