{
 "cells": [
  {
   "cell_type": "code",
   "execution_count": 9,
   "metadata": {},
   "outputs": [
    {
     "name": "stdout",
     "output_type": "stream",
     "text": [
      "Item 0 processed successfully\n",
      "Item 1 processed successfully\n",
      "Item 2 processed successfully\n",
      "Item 3 processed successfully\n",
      "Item 4 processed successfully\n",
      "Item 5 processed successfully\n",
      "Item 6 processed successfully\n",
      "Item 7 processed successfully\n",
      "Item 8 processed successfully\n",
      "Item 9 processed successfully\n"
     ]
    }
   ],
   "source": [
    "import multiprocessing\n",
    "import time\n",
    "\n",
    "# 定義爬蟲函數\n",
    "def crawl_task(item):\n",
    "    print(f\"Processing item {item}\")  # 印出當前正在處理的項目\n",
    "    time.sleep(100)  # 模擬爬蟲卡住，這裡故意設置一個很長的等待時間\n",
    "    print(f\"Item {item} processed successfully\")\n",
    "\n",
    "if __name__ == '__main__':\n",
    "    # 檢查是否已經設定過 multiprocessing 啟動方式\n",
    "    try:\n",
    "        multiprocessing.set_start_method('spawn')\n",
    "    except RuntimeError:\n",
    "        # 如果已經設定過啟動方式，則忽略這個錯誤\n",
    "        pass\n",
    "\n",
    "    # 設置超時時間\n",
    "    timeout_duration = 6  # 設定超時為1秒\n",
    "\n",
    "    # 模擬爬蟲迴圈\n",
    "    for i in range(10):\n",
    "        # 定義一個進程來執行爬蟲任務\n",
    "        process = multiprocessing.Process(target=crawl_task, args=(i,))\n",
    "\n",
    "        # 開始執行進程\n",
    "        process.start()\n",
    "\n",
    "        # 等待0.5秒，確保進程有機會啟動\n",
    "        time.sleep(0.5)\n",
    "\n",
    "        # 設置超時時間並等待進程完成\n",
    "        process.join(timeout_duration)\n",
    "\n",
    "        # 如果進程超時還在執行，就強制終止\n",
    "        if process.is_alive():\n",
    "            print(f\"Item {i} took too long, skipping...\")\n",
    "            process.terminate()  # 強制終止進程\n",
    "            process.join()  # 確保進程已經終止\n",
    "        else:\n",
    "            print(f\"Item {i} processed successfully\")  # 如果進程正常結束\n"
   ]
  }
 ],
 "metadata": {
  "kernelspec": {
   "display_name": "Python 3",
   "language": "python",
   "name": "python3"
  },
  "language_info": {
   "codemirror_mode": {
    "name": "ipython",
    "version": 3
   },
   "file_extension": ".py",
   "mimetype": "text/x-python",
   "name": "python",
   "nbconvert_exporter": "python",
   "pygments_lexer": "ipython3",
   "version": "3.10.4"
  }
 },
 "nbformat": 4,
 "nbformat_minor": 2
}
