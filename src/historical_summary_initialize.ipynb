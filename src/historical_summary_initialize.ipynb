{
 "cells": [
  {
   "cell_type": "code",
   "execution_count": null,
   "metadata": {},
   "outputs": [],
   "source": [
    "import os\n",
    "from datetime import datetime\n",
    "import pandas as pd\n",
    "import requests\n",
    "import warnings\n"
   ]
  },
  {
   "cell_type": "code",
   "execution_count": 1,
   "metadata": {},
   "outputs": [],
   "source": [
    "def get_allstock_info():\n",
    "    # 獲取所有股票的信息，包括上市和上櫃股票\n",
    "    url = \"https://isin.twse.com.tw/isin/class_main.jsp?owncode=&stockname=&isincode=&market=1&issuetype=1&industry_code=&Page=1&chklike=Y\"\n",
    "    response = requests.get(url)\n",
    "    listed = pd.read_html(response.text)[0]\n",
    "    listed.columns = listed.iloc[0, :]\n",
    "    listed = listed[[\"有價證券代號\", \"有價證券名稱\", \"市場別\", \"產業別\", \"公開發行/上市(櫃)/發行日\"]]\n",
    "    listed = listed.iloc[1:]\n",
    "\n",
    "    # 上櫃股票\n",
    "    urlTWO = \"https://isin.twse.com.tw/isin/class_main.jsp?owncode=&stockname=&isincode=&market=2&issuetype=&industry_code=&Page=1&chklike=Y\"\n",
    "    response = requests.get(urlTWO)\n",
    "    listedTWO = pd.read_html(response.text)[0]\n",
    "    listedTWO.columns = listedTWO.iloc[0, :]\n",
    "    listedTWO = listedTWO.loc[listedTWO['有價證券別'] == '股票']\n",
    "    listedTWO = listedTWO[[\"有價證券代號\", \"有價證券名稱\", \"市場別\", \"產業別\", \"公開發行/上市(櫃)/發行日\"]]\n",
    "\n",
    "    # 上市和上櫃股票代號處理\n",
    "    stock_num = pd.concat([listed[\"有價證券代號\"].apply(lambda x: str(x) + \".TW\"),\n",
    "                           listedTWO[\"有價證券代號\"].apply(lambda x: str(x) + \".TWO\")], ignore_index=True)\n",
    "    stock_num.loc[len(stock_num) + 1] = '0050.TW'\n",
    "    stock_num.loc[len(stock_num) + 1] = '^TWII'\n",
    "    stock_num = stock_num.sort_values(ascending=False).reset_index(drop=True)\n",
    "\n",
    "    # 合併所有股票信息\n",
    "    allstock_info = pd.concat([listed, listedTWO], ignore_index=True)\n",
    "    allstock_info.columns = [\"ID\", \"有價證券名稱\", \"市場別\", \"產業別\", \"公開發行/上市(櫃)/發行日\"]\n",
    "    allstock_info.set_index('ID', inplace=True)\n",
    "    return stock_num, allstock_info"
   ]
  },
  {
   "cell_type": "code",
   "execution_count": 4,
   "metadata": {},
   "outputs": [],
   "source": [
    "symbols, allstock_info = get_allstock_info()"
   ]
  },
  {
   "cell_type": "code",
   "execution_count": 5,
   "metadata": {},
   "outputs": [
    {
     "name": "stdout",
     "output_type": "stream",
     "text": [
      "skip ^TWII\n"
     ]
    }
   ],
   "source": [
    "import pandas as pd\n",
    "import os\n",
    "base_path = 'C:/Users/User/Desktop/stock/data_test'\n",
    "save_path = 'C:/Users/User/Desktop/stock/summary'\n",
    "all_symbols_data = []\n",
    "for symbol in symbols:\n",
    "    if symbol == \"^TWII\":\n",
    "        print('skip', symbol)\n",
    "        continue\n",
    "    file_path = os.path.join(base_path, symbol + '.csv')\n",
    "    data = pd.read_csv(file_path, parse_dates=True, header=0)\n",
    "    all_symbols_data.append(data)\n",
    "\n"
   ]
  },
  {
   "cell_type": "code",
   "execution_count": 9,
   "metadata": {},
   "outputs": [],
   "source": [
    "all_data = pd.concat(all_symbols_data, axis=0)\n",
    "del all_symbols_data"
   ]
  },
  {
   "cell_type": "code",
   "execution_count": 10,
   "metadata": {},
   "outputs": [],
   "source": [
    "all_data['Date'] = all_data['Date'].apply(lambda x: datetime.strftime(x, '%Y-%m-%d') if type(x) == datetime else x.split(' ')[0])\n",
    "all_data.set_index('Date', inplace=True)\n",
    "all_data_group_by_date = all_data.groupby(level='Date', axis=0)"
   ]
  },
  {
   "cell_type": "code",
   "execution_count": 11,
   "metadata": {},
   "outputs": [],
   "source": [
    "date_index = all_data_group_by_date.count().index"
   ]
  },
  {
   "cell_type": "code",
   "execution_count": 13,
   "metadata": {},
   "outputs": [],
   "source": [
    "del allstock_info"
   ]
  },
  {
   "cell_type": "code",
   "execution_count": null,
   "metadata": {},
   "outputs": [],
   "source": [
    "print(all_data.columns)\n",
    "for col in all_data.columns:\n",
    "    print(col)"
   ]
  },
  {
   "cell_type": "code",
   "execution_count": null,
   "metadata": {},
   "outputs": [],
   "source": [
    "# delet all_data which ID == '^TWII'\n",
    "all_data2 = all_data\n",
    "for i in set(all_data2.loc[:, 'ID']):\n",
    "    if i == '^TWII':\n",
    "        print(i)\n",
    "#all_data2 = all_data2.drop(all_data2[all_data2['ID']=='^TWII'], axis=0)"
   ]
  },
  {
   "cell_type": "code",
   "execution_count": null,
   "metadata": {},
   "outputs": [],
   "source": [
    "for i in set(all_data2.loc[:, 'ID']):\n",
    "    if i == '^TWII':\n",
    "        print(i)"
   ]
  },
  {
   "cell_type": "code",
   "execution_count": 15,
   "metadata": {},
   "outputs": [],
   "source": [
    "for date in date_index[::-1][:2000]:\n",
    "    date_data = all_data_group_by_date.get_group(date)\n",
    "    # set index to 'ID'\n",
    "    date_data.set_index('ID', inplace=True)\n",
    "    date_data.to_excel(os.path.join(save_path, f\"daily_stock_summary_{date}_with_rs_rate_and_maxmin\" + '.xlsx'), index=True)"
   ]
  }
 ],
 "metadata": {
  "kernelspec": {
   "display_name": "Python 3",
   "language": "python",
   "name": "python3"
  },
  "language_info": {
   "codemirror_mode": {
    "name": "ipython",
    "version": 3
   },
   "file_extension": ".py",
   "mimetype": "text/x-python",
   "name": "python",
   "nbconvert_exporter": "python",
   "pygments_lexer": "ipython3",
   "version": "3.10.4"
  }
 },
 "nbformat": 4,
 "nbformat_minor": 2
}
