{
 "cells": [
  {
   "cell_type": "code",
   "execution_count": null,
   "metadata": {},
   "outputs": [],
   "source": [
    "import pandas as pd\n",
    "df1 = pd.DataFrame({\n",
    "    'key1': ['A', 'B', 'C', 'D', 'E'],\n",
    "    'key2': ['K0', 'K1', 'K2', 'K3', 'K4'],\n",
    "    'value1': [1, 2, 3, 4, 5]\n",
    "})\n",
    "\n",
    "df2 = pd.DataFrame({\n",
    "    'key1': ['A', 'B', 'C', 'D'],\n",
    "    'key3': ['K0', 'K2', 'K2', 'K4'],\n",
    "    'value1': [5, 6, 7, 8]\n",
    "})\n",
    "result = pd.merge(\n",
    "    df1,\n",
    "    df2,\n",
    "    on=['key1'],    # 指定合併鍵\n",
    "    how='outer',            # 外連接\n",
    "    suffixes=('_left', '_right') # 指定重複列名後綴\n",
    ")\n",
    "result2 = pd.merge(\n",
    "    df1,\n",
    "    df2,\n",
    "    on=['key1'],    # 指定合併鍵\n",
    "    how='inner',            # 外連接\n",
    "    suffixes=('_left', '_right') # 指定重複列名後綴\n",
    ")\n",
    "result3 = pd.concat([df1, df2], axis=0, join='inner', ignore_index=False)\n",
    "result4 = pd.concat([df1, df2], axis=0, join='outer', ignore_index=False)\n",
    "display(result)\n",
    "display(result2)\n",
    "display(result3)\n",
    "display(result4)\n",
    "print(result3.index)"
   ]
  },
  {
   "cell_type": "code",
   "execution_count": 1,
   "metadata": {},
   "outputs": [
    {
     "name": "stdout",
     "output_type": "stream",
     "text": [
      "['242', '3']\n",
      "['239.5', '2']\n",
      "['247.5', '2']\n",
      "[['242', '3'], ['239.5', '2'], ['247.5', '2']]\n",
      "Average buy price is 242.85714285714286\n",
      "[]\n"
     ]
    }
   ],
   "source": [
    "import numpy as np\n",
    "stop = False\n",
    "while stop != True:\n",
    "    buyprice_list = []\n",
    "    while True:\n",
    "        try:\n",
    "            buyprice = input(\"buy price & position : \").split('+')\n",
    "            stop = buyprice[0]\n",
    "            if stop == 'stop':\n",
    "                break\n",
    "            if buyprice == ['0']:\n",
    "                break\n",
    "            if len(buyprice) != 2:\n",
    "                buyprice = buyprice[0].split(' ')\n",
    "                if len(buyprice) != 2:\n",
    "                    print(\"Please enter a number\")\n",
    "                    continue\n",
    "            buyprice_list.append(buyprice)\n",
    "        except ValueError:\n",
    "            print(\"Please enter a number\")\n",
    "        print(buyprice)\n",
    "    print(buyprice_list)\n",
    "    if stop == 'stop':\n",
    "        break\n",
    "    avg_buyprice = 0\n",
    "    if buyprice_list == []:\n",
    "        print(\"Please enter a number\")\n",
    "        continue\n",
    "    for buyprice in buyprice_list:\n",
    "        avg_buyprice += float(buyprice[0]) * float(buyprice[1])\n",
    "    buy_shares = sum([float(buyprice[1]) for buyprice in buyprice_list])\n",
    "    avg_buyprice = avg_buyprice / buy_shares\n",
    "    print(f'Average buy price is {avg_buyprice}')"
   ]
  },
  {
   "cell_type": "code",
   "execution_count": 4,
   "metadata": {},
   "outputs": [
    {
     "name": "stdout",
     "output_type": "stream",
     "text": [
      "close : 37.5\n",
      "shares/0.1 position : 880.0\n"
     ]
    }
   ],
   "source": [
    "import numpy as np\n",
    "position = 330000\n",
    "close = input(\"close price : \")\n",
    "close = float(close)\n",
    "shares = position / close\n",
    "print(f'close : {close}')\n",
    "print(f'shares/0.1 position : {shares*0.1}')"
   ]
  }
 ],
 "metadata": {
  "kernelspec": {
   "display_name": "Python 3",
   "language": "python",
   "name": "python3"
  },
  "language_info": {
   "codemirror_mode": {
    "name": "ipython",
    "version": 3
   },
   "file_extension": ".py",
   "mimetype": "text/x-python",
   "name": "python",
   "nbconvert_exporter": "python",
   "pygments_lexer": "ipython3",
   "version": "3.10.4"
  }
 },
 "nbformat": 4,
 "nbformat_minor": 2
}
