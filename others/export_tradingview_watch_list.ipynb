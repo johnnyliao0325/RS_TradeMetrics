{
 "cells": [
  {
   "cell_type": "code",
   "execution_count": 1,
   "metadata": {},
   "outputs": [
    {
     "name": "stdout",
     "output_type": "stream",
     "text": [
      "     有價證券名稱 市場別    產業別 公開發行/上市(櫃)/發行日\n",
      "ID                                   \n",
      "1101     台泥  上市   水泥工業     1962/02/09\n",
      "1102     亞泥  上市   水泥工業     1962/06/08\n",
      "1103     嘉泥  上市   水泥工業     1969/11/14\n",
      "1104     環泥  上市   水泥工業     1971/02/01\n",
      "1108     幸福  上市   水泥工業     1990/06/06\n",
      "...     ...  ..    ...            ...\n",
      "9949     琉園  上櫃  文化創意業     2003/11/21\n",
      "9950    萬國通  上櫃   塑膠工業     2004/02/17\n",
      "9951     皇田  上櫃   電機機械     2003/12/18\n",
      "9960    邁達康  上櫃   運動休閒     2004/12/06\n",
      "9962     有益  上櫃   鋼鐵工業     2006/07/10\n",
      "\n",
      "[1839 rows x 4 columns]\n"
     ]
    }
   ],
   "source": [
    "import requests\n",
    "import pandas as pd\n",
    "import numpy as np\n",
    "import warnings\n",
    "import datetime\n",
    "warnings.filterwarnings('ignore')\n",
    "# ============上市股票df============\n",
    "url = \"https://isin.twse.com.tw/isin/class_main.jsp?owncode=&stockname=&isincode=&market=1&issuetype=1&industry_code=&Page=1&chklike=Y\"\n",
    "response = requests.get(url)\n",
    "listed = pd.read_html(response.text)[0]\n",
    "listed.columns = listed.iloc[0,:]\n",
    "listed = listed[[\"有價證券代號\",\"有價證券名稱\",\"市場別\",\"產業別\",\"公開發行/上市(櫃)/發行日\"]]\n",
    "listed = listed.iloc[1:]\n",
    "\n",
    "# ============上櫃股票df============\n",
    "urlTWO = \"https://isin.twse.com.tw/isin/class_main.jsp?owncode=&stockname=&isincode=&market=2&issuetype=&industry_code=&Page=1&chklike=Y\"\n",
    "response = requests.get(urlTWO)\n",
    "listedTWO = pd.read_html(response.text)[0]\n",
    "listedTWO.columns = listedTWO.iloc[0,:]\n",
    "listedTWO = listedTWO.loc[listedTWO['有價證券別'] == '股票']\n",
    "listedTWO = listedTWO[[\"有價證券代號\",\"有價證券名稱\",\"市場別\",\"產業別\",\"公開發行/上市(櫃)/發行日\"]]\n",
    "\n",
    "# ============上市股票代號+.TW============\n",
    "stock_1 = listed[\"有價證券代號\"]\n",
    "stock_num = stock_1.apply(lambda x: str(x) + \".TW\")\n",
    "stock_num.loc[len(stock_num)+1] = '0050.TW'\n",
    "stock_num.loc[len(stock_num)+1] = '^TWII'\n",
    "# print(stock_num)\n",
    "\n",
    "# ============上櫃股票代號+.TWO============\n",
    "stock_2 = listedTWO[\"有價證券代號\"]\n",
    "stock_num2 = stock_2.apply(lambda x: str(x) + \".TWO\")\n",
    "# print(stock_num2)\n",
    "\n",
    "# ============concate全部股票代號============\n",
    "stock_num = pd.concat([stock_num, stock_num2], ignore_index=True)\n",
    "# print(stock_num)\n",
    "allstock_info = pd.concat([listed, listedTWO], ignore_index=True)\n",
    "allstock_info.columns = [\"ID\",\"有價證券名稱\",\"市場別\",\"產業別\",\"公開發行/上市(櫃)/發行日\"]\n",
    "allstock_info.set_index('ID', inplace = True)\n",
    "print(allstock_info)\n"
   ]
  },
  {
   "cell_type": "markdown",
   "metadata": {},
   "source": [
    "## 全部策略選中股票"
   ]
  },
  {
   "cell_type": "code",
   "execution_count": 26,
   "metadata": {},
   "outputs": [
    {
     "name": "stdout",
     "output_type": "stream",
     "text": [
      "2024-11-22_all.txt saved\n"
     ]
    }
   ],
   "source": [
    "date = '2024-11-22'\n",
    "filename = f'daily_stock_summary_{date}_with_template'\n",
    "path = r'C:\\Users\\User\\Desktop\\stock\\全個股條件篩選\\\\' + filename + '.xlsx'\n",
    "# path = f'C:/Users/User/Desktop/StockInfoHub/Stock_Data_Collector/全個股條件篩選/{date}.xlsx'\n",
    "df = pd.read_excel(path)\n",
    "df['ID'] = df['ID'].apply(lambda x: str(x).split('.')[0])\n",
    "df = df.set_index('ID')\n",
    "df['市場別'] = None\n",
    "df.drop(df[df['產業別']==0].index.values, inplace=True)\n",
    "for i in df.index:\n",
    "    df.loc[i, '市場別'] = allstock_info.loc[i, '市場別']\n",
    "all_df = df.copy()\n",
    "T5_id = all_df.loc[all_df['T5']].index.values\n",
    "T5_2_id = all_df.loc[all_df['T5-2']].index.values \n",
    "T6_id = all_df.loc[all_df['T6']].index.values\n",
    "T11_id = all_df.loc[all_df['T11']].index.values\n",
    "T21_id = all_df.loc[all_df['T21']].index.values\n",
    "TM = all_df.loc[all_df['TM']].index.values\n",
    "T5_2_id = [i for i in T5_2_id if i not in T5_id]\n",
    "T6_id = [i for i in T6_id if all([i not in T5_id, i not in T5_2_id])]\n",
    "T11_id = [i for i in T11_id if all([i not in T5_id, i not in T5_2_id, i not in T6_id])]\n",
    "T21_id = [i for i in T21_id if all([i not in T5_id, i not in T5_2_id, i not in T6_id, i not in T11_id])]\n",
    "TM = [i for i in TM if all([i not in T5_id, i not in T5_2_id, i not in T6_id, i not in T11_id, i not in T21_id])]\n",
    "template = ['T5', 'T5-2', 'T6', 'T11', 'T21', 'TM']\n",
    "ids = [T5_id, T5_2_id, T6_id, T11_id, T21_id, TM]\n",
    "all_text = ''\n",
    "for i, t in enumerate(template):\n",
    "    text = ''\n",
    "    all_text += f'###{t}\\n'\n",
    "    for id in ids[i]:\n",
    "        if df.loc[id, '市場別'] == '上櫃':\n",
    "            text += f'TPEX:{id}\\n'\n",
    "        elif df.loc[id, '市場別'] == '上市':\n",
    "            text += f'TWSE:{id}\\n'\n",
    "        # create and save to txt\n",
    "    all_text += text\n",
    "    \n",
    "with open(f'C:/Users/User/Desktop/StockInfoHub/Stock_Data_Collector/tradingview觀察清單/{date}_all.txt', 'w', encoding='utf-8') as f:\n",
    "    f.write(all_text)\n",
    "print(f'{date}_all.txt saved')\n"
   ]
  },
  {
   "cell_type": "markdown",
   "metadata": {},
   "source": [
    "## 每日新增的股票"
   ]
  },
  {
   "cell_type": "code",
   "execution_count": 33,
   "metadata": {},
   "outputs": [
    {
     "name": "stdout",
     "output_type": "stream",
     "text": [
      "['sad', 1, 2, 3]\n"
     ]
    }
   ],
   "source": [
    "a= [1,2,3]\n",
    "a.insert(0, 'sad')\n",
    "print(a)\n"
   ]
  },
  {
   "cell_type": "code",
   "execution_count": 25,
   "metadata": {},
   "outputs": [
    {
     "name": "stdout",
     "output_type": "stream",
     "text": [
      "共有1743支股票\n",
      "['8446' '8240' '8234' '6821' '6781' '6582' '6558' '6166' '5531' '5530'\n",
      " '5475' '5460' '5315' '5309' '5243' '4766' '4557' '3416' '3338' '3323'\n",
      " '3290' '3231' '3088' '3056' '3032' '3015' '2929' '2915' '2888' '2885'\n",
      " '2852' '2610' '2606' '2506' '2488' '2444' '2387' '2383' '2356' '2345'\n",
      " '2332' '2328' '2324' '2233' '1817' '1795' '1565' '1504' '1449' '1402'\n",
      " '1336' '1220']\n",
      "['8446' '8240' '6821' '6781' '6606' '6510' '6166' '5530' '5488' '5315'\n",
      " '5309' '5243' '4577' '4557' '4129' '3499' '3416' '3323' '3231' '3088'\n",
      " '3056' '3032' '3015' '2915' '2888' '2885' '2852' '2610' '2606' '2506'\n",
      " '2444' '2387' '2345' '2332' '2328' '2324' '2233' '2069' '1817' '1795'\n",
      " '1565' '1504' '1463' '1449' '1402' '1336' '1220']\n",
      "[array(['2356', '2383', '2488', '2929', '3290', '3338', '4766', '5460',\n",
      "       '5475', '5531', '6558', '6582', '8234'], dtype='<U4'), ['1471', '1802', '2332', '2387', '2419', '2885', '2915', '3010', '3380', '4532', '6150', '6274', '6288', '8038', '8171', '8261'], ['2486', '3303', '4977', '8104', '8111', '8935', '8938'], ['3597', '4971'], ['2392', '3447', '6165', '6821', '8044', '8240']]\n",
      "2024-11-21-all_add.txt saved\n"
     ]
    }
   ],
   "source": [
    "import pandas as pd\n",
    "import numpy as np\n",
    "# ============讀今日和昨日的股票Excel============\n",
    "\n",
    "path = r'C:\\Users\\User\\Desktop\\stock\\全個股條件篩選\\\\' + filename + '.xlsx'\n",
    "new_date = '2024-11-21'\n",
    "new_filename = f'daily_stock_summary_{new_date}_with_template'\n",
    "new_path = r'C:\\Users\\User\\Desktop\\stock\\全個股條件篩選\\\\' + new_filename + '.xlsx'\n",
    "old_date = '2024-11-20'\n",
    "old_filename = f'daily_stock_summary_{old_date}_with_template' \n",
    "old_path = r'C:\\Users\\User\\Desktop\\stock\\全個股條件篩選\\\\' + old_filename + '.xlsx'\n",
    "df_new = pd.read_excel(new_path)\n",
    "df_old = pd.read_excel(old_path)\n",
    "df_new['ID'] = df_new['ID'].apply(lambda x: str(x).split('.')[0])\n",
    "df_old['ID'] = df_old['ID'].apply(lambda x: str(x).split('.')[0])\n",
    "df_new = df_new.set_index('ID')\n",
    "df_old = df_old.set_index('ID')\n",
    "df_new.drop(df_new[df_new['產業別']==0].index.values, inplace=True)\n",
    "df_old.drop(df_old[df_old['產業別']==0].index.values, inplace=True)\n",
    "df_new['市場別'] = None\n",
    "df_old['市場別'] = None\n",
    "\n",
    "# ============今日和昨日股票的ID============\n",
    "df_same_ID = df_new.loc[df_new.index.isin(df_old.index.values)].index.values\n",
    "print(f'共有{len(df_same_ID)}支股票')\n",
    "df_old = df_old.loc[df_same_ID]\n",
    "df_new = df_new.loc[df_same_ID]\n",
    "old_T5_ID = df_old.loc[df_old['T5']].index.values\n",
    "old_T5_2_ID = df_old.loc[df_old['T5-2']].index.values\n",
    "old_T6_ID = df_old.loc[df_old['T6']].index.values\n",
    "old_T11_ID = df_old.loc[df_old['T11']].index.values\n",
    "new_T5_ID = df_new.loc[df_new['T5']].index.values\n",
    "new_T5_2_ID = df_new.loc[df_new['T5-2']].index.values\n",
    "new_T6_ID = df_new.loc[df_new['T6']].index.values\n",
    "new_T11_ID = df_new.loc[df_new['T11']].index.values\n",
    "new_T21_ID = df_new.loc[df_new['T21']].index.values\n",
    "old_T21_ID = df_old.loc[df_old['T21']].index.values\n",
    "\n",
    "# ============新增和刪除股票的ID============\n",
    "T5_add_ID = np.sort([i for i in new_T5_ID if i not in old_T5_ID])\n",
    "print(new_T5_ID)\n",
    "print(old_T5_ID)\n",
    "T5_drop_ID = np.sort([i for i in old_T5_ID if i not in new_T5_ID])\n",
    "T6_add_ID = np.sort([i for i in new_T6_ID if i not in old_T6_ID])\n",
    "T6_drop_ID = np.sort([i for i in old_T6_ID if i not in new_T6_ID])\n",
    "T11_add_ID = np.sort([i for i in new_T11_ID if i not in old_T11_ID])\n",
    "T11_drop_ID = np.sort([i for i in old_T11_ID if i not in new_T11_ID])\n",
    "T5_2_add_ID = np.sort([i for i in new_T5_2_ID if i not in old_T5_2_ID])\n",
    "T5_2_drop_ID = np.sort([i for i in old_T5_2_ID if i not in new_T5_2_ID])\n",
    "T21_add_ID = np.sort([i for i in new_T21_ID if i not in old_T21_ID])\n",
    "T21_drop_ID = np.sort([i for i in old_T21_ID if i not in new_T21_ID])\n",
    "# T5_drop_goodID = np.sort([i for i in T5_drop_ID if all([df_new.loc[i,'S250rate']>=75, df_new.loc[i, 'S20rate']>85])])\n",
    "# T5_2_drop_goodID = np.sort([i for i in T5_2_drop_ID if all([df_new.loc[i,'ES250rate']>=75, df_new.loc[i, 'ES20rate']>85])])\n",
    "T5_2_add_ID = [i for i in T5_2_add_ID if i not in T5_add_ID]\n",
    "T6_add_ID = [i for i in T6_add_ID if all([i not in T5_add_ID, i not in T5_2_add_ID])]\n",
    "T11_add_ID = [i for i in T11_add_ID if all([i not in T5_add_ID, i not in T5_2_add_ID, i not in T6_add_ID])]\n",
    "T21_add_ID = [i for i in T21_add_ID if all([i not in T5_add_ID, i not in T5_2_add_ID, i not in T6_add_ID, i not in T11_add_ID])]\n",
    "\n",
    "template = ['T5', 'T5-2', 'T6', 'T11', 'T21']\n",
    "add = [T5_add_ID, T5_2_add_ID, T6_add_ID, T11_add_ID, T21_add_ID]\n",
    "print(add)\n",
    "all_txt = ''\n",
    "for i, t in enumerate(template):\n",
    "    all_txt += f'###{t}\\n'\n",
    "    text = ''\n",
    "    for id in add[i]:\n",
    "        id = str(id)\n",
    "        if allstock_info.loc[id, '市場別'] == '上櫃':\n",
    "            text += f'TPEX:{id}\\n'\n",
    "        elif allstock_info.loc[id, '市場別'] == '上市':\n",
    "            text += f'TWSE:{id}\\n'\n",
    "        # create and save to txt\n",
    "    all_txt += text\n",
    "with open(f'C:/Users/User/Desktop/StockInfoHub/Stock_Data_Collector/tradingview觀察清單/{new_date}_all_add.txt', 'w', encoding='utf-8') as f:\n",
    "    f.write(all_txt)\n",
    "print(f'{new_date}-all_add.txt saved')"
   ]
  },
  {
   "cell_type": "code",
   "execution_count": null,
   "metadata": {},
   "outputs": [],
   "source": [
    "df = pd.read_excel(f'{path}{new_date}選股.xlsx', header=0, index_col=0)\n",
    "df['ESS250diff'] = df['ES250rate'] - df['S250rate']\n",
    "df['5MA_close_diff'] = (df['Adj Close'] - df['5MA'])/df['5MA']\n",
    "df['200MA_close_diff'] = (df['Adj Close'] - df['200MA'])/df['200MA']\n",
    "df['50MA_close_diff'] = (df['Adj Close'] - df['50MA'])/df['50MA']\n",
    "## 5MA_close_diff > 0.05 and ESS250diff > 0.05\n",
    "df = df[(df['5MA_close_diff'] < 0.05) & (df['ESS250diff'] > 10)\n",
    "& (df['ES250 is 10D MAX'] != 1) & (df['ES50 is 10D MAX'] != 1) & (df['ES20 is 10D MAX'] != 1)\n",
    "& (df['busness volume(億)'] > 0.8) & (df['year high sort'] == 1) & (df['200MA_close_diff'] < 0.8)\n",
    "& (df['200MA_close_diff'] > 0.2) & (df['S250rate'] < 90) & (df['50MA_close_diff'] > 0.15)]\n",
    "print(df)\n",
    "stock_id = pd.read_excel(r'C:\\Users\\User\\Desktop\\StockInfoHub\\others\\產業別.xlsx')\n",
    "industry = 'T5-2_test_1'\n",
    "stock_id = df.index.values\n",
    "text = ''\n",
    "for id in stock_id:\n",
    "    id = str(id)\n",
    "    if allstock_info.loc[id, '市場別'] == '上櫃':\n",
    "        text += f'TPEX:{id}\\n'\n",
    "    elif allstock_info.loc[id, '市場別'] == '上市':\n",
    "        text += f'TWSE:{id}\\n'\n",
    "    # create and save to txt\n",
    "with open(f'C:/Users/User/Desktop/StockInfoHub/Stock_Data_Collector/tradingview觀察清單/{new_date}_T31_all', 'w', encoding='utf-8') as f:\n",
    "    f.write(text)\n",
    "print(f'{industry}.txt saved')"
   ]
  },
  {
   "cell_type": "markdown",
   "metadata": {},
   "source": [
    "## 股票ID轉tradingview格式"
   ]
  },
  {
   "cell_type": "code",
   "execution_count": 7,
   "metadata": {},
   "outputs": [
    {
     "name": "stdout",
     "output_type": "stream",
     "text": [
      "202410營收創高股.txt saved\n"
     ]
    }
   ],
   "source": [
    "import pandas as pd\n",
    "stock_id = pd.read_excel(r'C:\\Users\\User\\Desktop\\StockInfoHub\\others\\產業別.xlsx')\n",
    "revenue_highest_df = pd.read_csv(r'C:\\Users\\User\\Desktop\\Excel\\StockList.csv', encoding='utf-8-sig')\n",
    "revenue_highest_id = revenue_highest_df.loc[revenue_highest_df['單月營收歷月排名'] == '1高', '代號']\n",
    "industry = '202410營收創高股'\n",
    "# stock_id = stock_id[industry]\n",
    "# stock_id = stock_id.loc[stock_id != 0]\n",
    "text = ''\n",
    "for id in revenue_highest_id.values:\n",
    "    id = str(id)\n",
    "    try:\n",
    "        if allstock_info.loc[id, '市場別'] == '上櫃':\n",
    "            text += f'TPEX:{id}\\n'\n",
    "        elif allstock_info.loc[id, '市場別'] == '上市':\n",
    "            text += f'TWSE:{id}\\n'\n",
    "    except:\n",
    "        pass\n",
    "    # create and save to txt\n",
    "with open(f'C:/Users/User/Desktop/StockInfoHub/Stock_Data_Collector/tradingview觀察清單/{industry}.txt', 'w', encoding='utf-8') as f:\n",
    "    f.write(text)\n",
    "print(f'{industry}.txt saved')"
   ]
  }
 ],
 "metadata": {
  "kernelspec": {
   "display_name": "Python 3",
   "language": "python",
   "name": "python3"
  },
  "language_info": {
   "codemirror_mode": {
    "name": "ipython",
    "version": 3
   },
   "file_extension": ".py",
   "mimetype": "text/x-python",
   "name": "python",
   "nbconvert_exporter": "python",
   "pygments_lexer": "ipython3",
   "version": "3.10.4"
  }
 },
 "nbformat": 4,
 "nbformat_minor": 2
}
